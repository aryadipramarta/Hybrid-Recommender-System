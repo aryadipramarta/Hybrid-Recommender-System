{
 "cells": [
  {
   "cell_type": "code",
   "execution_count": 15,
   "id": "7e5e9fe5",
   "metadata": {},
   "outputs": [],
   "source": [
    "import pandas as pd\n",
    "import numpy as np\n",
    "import seaborn as sns\n",
    "from surprise import Reader\n",
    "from surprise import Dataset\n",
    "from surprise.model_selection import cross_validate\n",
    "from surprise import NormalPredictor\n",
    "from surprise import KNNBasic\n",
    "from surprise import KNNWithMeans\n",
    "from surprise import KNNWithZScore\n",
    "from surprise import KNNBaseline\n",
    "from surprise import SVD\n",
    "from surprise import BaselineOnly\n",
    "from surprise import SVDpp\n",
    "from surprise import NMF\n",
    "from surprise import SlopeOne\n",
    "from surprise import CoClustering\n",
    "from surprise.accuracy import rmse\n",
    "from surprise import accuracy\n",
    "from surprise.model_selection import train_test_split\n",
    "from surprise.model_selection import GridSearchCV"
   ]
  },
  {
   "cell_type": "code",
   "execution_count": 102,
   "id": "29fe9c74",
   "metadata": {},
   "outputs": [],
   "source": [
    "dt_destination = pd.read_csv('dataset_destination.csv')\n",
    "dt_rating = pd.read_csv('dt_rating.csv')\n",
    "dt_user = pd.read_csv('dt_user.csv')"
   ]
  },
  {
   "cell_type": "code",
   "execution_count": 103,
   "id": "94cf4465",
   "metadata": {},
   "outputs": [
    {
     "data": {
      "text/html": [
       "<div>\n",
       "<style scoped>\n",
       "    .dataframe tbody tr th:only-of-type {\n",
       "        vertical-align: middle;\n",
       "    }\n",
       "\n",
       "    .dataframe tbody tr th {\n",
       "        vertical-align: top;\n",
       "    }\n",
       "\n",
       "    .dataframe thead th {\n",
       "        text-align: right;\n",
       "    }\n",
       "</style>\n",
       "<table border=\"1\" class=\"dataframe\">\n",
       "  <thead>\n",
       "    <tr style=\"text-align: right;\">\n",
       "      <th></th>\n",
       "      <th>Rating</th>\n",
       "      <th>Review</th>\n",
       "      <th>destination_id</th>\n",
       "      <th>user_id</th>\n",
       "    </tr>\n",
       "  </thead>\n",
       "  <tbody>\n",
       "    <tr>\n",
       "      <th>0</th>\n",
       "      <td>5</td>\n",
       "      <td>Sangat menikmati melihat monyet-monyet di ling...</td>\n",
       "      <td>1</td>\n",
       "      <td>445</td>\n",
       "    </tr>\n",
       "    <tr>\n",
       "      <th>1</th>\n",
       "      <td>4</td>\n",
       "      <td>Mandala Wisata Wenara Wana atau disebut juga H...</td>\n",
       "      <td>1</td>\n",
       "      <td>1020</td>\n",
       "    </tr>\n",
       "    <tr>\n",
       "      <th>2</th>\n",
       "      <td>5</td>\n",
       "      <td>Meski sudah berkali-kali ke Bali dan sering me...</td>\n",
       "      <td>1</td>\n",
       "      <td>2970</td>\n",
       "    </tr>\n",
       "    <tr>\n",
       "      <th>3</th>\n",
       "      <td>5</td>\n",
       "      <td>Saya sangat sering datang kesini,Tempat ini sa...</td>\n",
       "      <td>1</td>\n",
       "      <td>750</td>\n",
       "    </tr>\n",
       "    <tr>\n",
       "      <th>4</th>\n",
       "      <td>3</td>\n",
       "      <td>tiket masuk dewasa : 50.000 dan anak anak 40.0...</td>\n",
       "      <td>1</td>\n",
       "      <td>1841</td>\n",
       "    </tr>\n",
       "    <tr>\n",
       "      <th>...</th>\n",
       "      <td>...</td>\n",
       "      <td>...</td>\n",
       "      <td>...</td>\n",
       "      <td>...</td>\n",
       "    </tr>\n",
       "    <tr>\n",
       "      <th>16650</th>\n",
       "      <td>5</td>\n",
       "      <td>Untuk menemukan pantai ini sedikit agak sukut ...</td>\n",
       "      <td>120</td>\n",
       "      <td>1046</td>\n",
       "    </tr>\n",
       "    <tr>\n",
       "      <th>16651</th>\n",
       "      <td>5</td>\n",
       "      <td>Pantai yg bagus dan barsih. Tidak ramai pengun...</td>\n",
       "      <td>120</td>\n",
       "      <td>3475</td>\n",
       "    </tr>\n",
       "    <tr>\n",
       "      <th>16652</th>\n",
       "      <td>5</td>\n",
       "      <td>Gak banyak warga lokal pergi kesini dan kebany...</td>\n",
       "      <td>120</td>\n",
       "      <td>875</td>\n",
       "    </tr>\n",
       "    <tr>\n",
       "      <th>16653</th>\n",
       "      <td>5</td>\n",
       "      <td>seru banget pengalaman kesini, akses jalannya ...</td>\n",
       "      <td>120</td>\n",
       "      <td>2794</td>\n",
       "    </tr>\n",
       "    <tr>\n",
       "      <th>16654</th>\n",
       "      <td>5</td>\n",
       "      <td>Ini adalah bentangan murni dari garis pantai U...</td>\n",
       "      <td>120</td>\n",
       "      <td>3044</td>\n",
       "    </tr>\n",
       "  </tbody>\n",
       "</table>\n",
       "<p>16655 rows × 4 columns</p>\n",
       "</div>"
      ],
      "text/plain": [
       "       Rating                                             Review  \\\n",
       "0           5  Sangat menikmati melihat monyet-monyet di ling...   \n",
       "1           4  Mandala Wisata Wenara Wana atau disebut juga H...   \n",
       "2           5  Meski sudah berkali-kali ke Bali dan sering me...   \n",
       "3           5  Saya sangat sering datang kesini,Tempat ini sa...   \n",
       "4           3  tiket masuk dewasa : 50.000 dan anak anak 40.0...   \n",
       "...       ...                                                ...   \n",
       "16650       5  Untuk menemukan pantai ini sedikit agak sukut ...   \n",
       "16651       5  Pantai yg bagus dan barsih. Tidak ramai pengun...   \n",
       "16652       5  Gak banyak warga lokal pergi kesini dan kebany...   \n",
       "16653       5  seru banget pengalaman kesini, akses jalannya ...   \n",
       "16654       5  Ini adalah bentangan murni dari garis pantai U...   \n",
       "\n",
       "       destination_id  user_id  \n",
       "0                   1      445  \n",
       "1                   1     1020  \n",
       "2                   1     2970  \n",
       "3                   1      750  \n",
       "4                   1     1841  \n",
       "...               ...      ...  \n",
       "16650             120     1046  \n",
       "16651             120     3475  \n",
       "16652             120      875  \n",
       "16653             120     2794  \n",
       "16654             120     3044  \n",
       "\n",
       "[16655 rows x 4 columns]"
      ]
     },
     "execution_count": 103,
     "metadata": {},
     "output_type": "execute_result"
    }
   ],
   "source": [
    "dt_rating"
   ]
  },
  {
   "cell_type": "code",
   "execution_count": 4,
   "id": "abcd4475",
   "metadata": {},
   "outputs": [
    {
     "data": {
      "text/plain": [
       "<AxesSubplot:xlabel='Rating', ylabel='count'>"
      ]
     },
     "execution_count": 4,
     "metadata": {},
     "output_type": "execute_result"
    },
    {
     "data": {
      "image/png": "[encoded data removed]",
      "text/plain": [
       "<Figure size 432x288 with 1 Axes>"
      ]
     },
     "metadata": {
      "needs_background": "light"
     },
     "output_type": "display_data"
    }
   ],
   "source": [
    "sns.countplot(x='Rating',data=dt_rating)"
   ]
  },
  {
   "cell_type": "markdown",
   "id": "ad8ece0c",
   "metadata": {},
   "source": [
    "### Collaborative Filtering"
   ]
  },
  {
   "cell_type": "code",
   "execution_count": 5,
   "id": "348469e9",
   "metadata": {},
   "outputs": [],
   "source": [
    "reader = Reader(rating_scale=(1, 5))\n",
    "dt_rating = Dataset.load_from_df(dt_rating[['user_id', 'destination_id', 'Rating']], reader)"
   ]
  },
  {
   "cell_type": "code",
   "execution_count": 6,
   "id": "e6d1c2b4",
   "metadata": {},
   "outputs": [],
   "source": [
    "algo = SVD()"
   ]
  },
  {
   "cell_type": "code",
   "execution_count": 8,
   "id": "5fb3d54b",
   "metadata": {},
   "outputs": [
    {
     "name": "stdout",
     "output_type": "stream",
     "text": [
      "Evaluating RMSE, MAE of algorithm SVD on 10 split(s).\n",
      "\n",
      "                  Fold 1  Fold 2  Fold 3  Fold 4  Fold 5  Fold 6  Fold 7  Fold 8  Fold 9  Fold 10 Mean    Std     \n",
      "RMSE (testset)    0.8145  0.8466  0.8513  0.8237  0.8322  0.8765  0.8530  0.8281  0.8342  0.7981  0.8358  0.0210  \n",
      "MAE (testset)     0.6517  0.6710  0.6660  0.6530  0.6506  0.6800  0.6619  0.6404  0.6528  0.6359  0.6563  0.0128  \n",
      "Fit time          0.91    0.77    0.79    0.75    0.76    0.78    0.78    0.79    0.79    0.82    0.79    0.04    \n",
      "Test time         0.01    0.01    0.01    0.01    0.01    0.01    0.01    0.01    0.01    0.01    0.01    0.00    \n"
     ]
    },
    {
     "data": {
      "text/plain": [
       "{'test_rmse': array([0.81454365, 0.84663822, 0.85132568, 0.82370197, 0.83217454,\n",
       "        0.87653299, 0.85301034, 0.82807502, 0.83418288, 0.79813325]),\n",
       " 'test_mae': array([0.65174545, 0.67102093, 0.66599701, 0.65304792, 0.65061853,\n",
       "        0.67997786, 0.66190955, 0.64037707, 0.65275844, 0.63591235]),\n",
       " 'fit_time': (0.9141862392425537,\n",
       "  0.7721858024597168,\n",
       "  0.7879512310028076,\n",
       "  0.7489702701568604,\n",
       "  0.7601268291473389,\n",
       "  0.7768058776855469,\n",
       "  0.7833089828491211,\n",
       "  0.788581371307373,\n",
       "  0.7941799163818359,\n",
       "  0.8164443969726562),\n",
       " 'test_time': (0.009163618087768555,\n",
       "  0.008978128433227539,\n",
       "  0.008968830108642578,\n",
       "  0.008978605270385742,\n",
       "  0.008014678955078125,\n",
       "  0.009172677993774414,\n",
       "  0.008940696716308594,\n",
       "  0.00813436508178711,\n",
       "  0.011018991470336914,\n",
       "  0.008977651596069336)}"
      ]
     },
     "execution_count": 8,
     "metadata": {},
     "output_type": "execute_result"
    }
   ],
   "source": [
    "cross_validate(algo, dt_rating, measures=['RMSE', 'MAE'], cv=10, verbose=True)"
   ]
  },
  {
   "cell_type": "code",
   "execution_count": 20,
   "id": "cd3ec8c4",
   "metadata": {},
   "outputs": [
    {
     "data": {
      "text/plain": [
       "Prediction(uid=15, iid=12, r_ui=None, est=4.818242660477858, details={'was_impossible': False})"
      ]
     },
     "execution_count": 20,
     "metadata": {},
     "output_type": "execute_result"
    }
   ],
   "source": [
    "algo.predict(uid=15, iid=12)"
   ]
  },
  {
   "cell_type": "code",
   "execution_count": 26,
   "id": "c1e7694a",
   "metadata": {},
   "outputs": [
    {
     "data": {
      "text/plain": [
       "4.460076723987303"
      ]
     },
     "execution_count": 26,
     "metadata": {},
     "output_type": "execute_result"
    }
   ],
   "source": [
    "prediction = algo.predict(1,7)\n",
    "prediction.est"
   ]
  },
  {
   "cell_type": "code",
   "execution_count": 33,
   "id": "48a4a342",
   "metadata": {},
   "outputs": [
    {
     "name": "stdout",
     "output_type": "stream",
     "text": [
      "0.8266624260451523\n",
      "{'n_factors': 100, 'n_epochs': 20, 'lr_all': 0.005, 'reg_all': 0.1}\n"
     ]
    }
   ],
   "source": [
    "param_grid = {'n_factors':[50,100,150],'n_epochs':[20,30],  'lr_all':[0.005,0.01],'reg_all':[0.02,0.1]}\n",
    "gs = GridSearchCV(SVD, param_grid, measures=[\"rmse\", \"mae\"], cv=3)\n",
    "\n",
    "gs.fit(dt_rating)\n",
    "\n",
    "print(gs.best_score[\"rmse\"])\n",
    "print(gs.best_params[\"rmse\"])"
   ]
  },
  {
   "cell_type": "code",
   "execution_count": 35,
   "id": "74fe9032",
   "metadata": {},
   "outputs": [],
   "source": [
    "algo = SVD(n_factors=100, n_epochs=20,lr_all=0.005,reg_all=0.1)"
   ]
  },
  {
   "cell_type": "code",
   "execution_count": 37,
   "id": "89fdf69f",
   "metadata": {},
   "outputs": [
    {
     "name": "stdout",
     "output_type": "stream",
     "text": [
      "Evaluating RMSE, MAE of algorithm SVD on 10 split(s).\n",
      "\n",
      "                  Fold 1  Fold 2  Fold 3  Fold 4  Fold 5  Fold 6  Fold 7  Fold 8  Fold 9  Fold 10 Mean    Std     \n",
      "RMSE (testset)    0.8399  0.8370  0.8410  0.8239  0.8204  0.8066  0.8545  0.8045  0.8118  0.8381  0.8278  0.0159  \n",
      "MAE (testset)     0.6633  0.6564  0.6700  0.6428  0.6492  0.6416  0.6775  0.6378  0.6504  0.6552  0.6544  0.0121  \n",
      "Fit time          0.75    0.75    0.74    0.74    0.75    0.73    0.75    0.78    0.79    0.75    0.75    0.02    \n",
      "Test time         0.01    0.01    0.01    0.01    0.01    0.01    0.01    0.01    0.01    0.01    0.01    0.00    \n"
     ]
    },
    {
     "data": {
      "text/plain": [
       "{'test_rmse': array([0.83990948, 0.83701072, 0.84099953, 0.82389241, 0.82039882,\n",
       "        0.80659522, 0.854496  , 0.80449796, 0.81180531, 0.83805482]),\n",
       " 'test_mae': array([0.66334939, 0.65641091, 0.67002686, 0.64284677, 0.64917542,\n",
       "        0.64163293, 0.67746404, 0.6378076 , 0.65043394, 0.65518552]),\n",
       " 'fit_time': (0.7513494491577148,\n",
       "  0.7479352951049805,\n",
       "  0.7391977310180664,\n",
       "  0.743896484375,\n",
       "  0.7454123497009277,\n",
       "  0.730919599533081,\n",
       "  0.7454824447631836,\n",
       "  0.7814991474151611,\n",
       "  0.7931387424468994,\n",
       "  0.7490987777709961),\n",
       " 'test_time': (0.008976459503173828,\n",
       "  0.008970975875854492,\n",
       "  0.007963418960571289,\n",
       "  0.007973432540893555,\n",
       "  0.008967399597167969,\n",
       "  0.007946252822875977,\n",
       "  0.007967472076416016,\n",
       "  0.008977890014648438,\n",
       "  0.007978200912475586,\n",
       "  0.00897073745727539)}"
      ]
     },
     "execution_count": 37,
     "metadata": {},
     "output_type": "execute_result"
    }
   ],
   "source": [
    "cross_validate(algo, dt_rating, measures=['RMSE', 'MAE'], cv=10, verbose=True)"
   ]
  },
  {
   "cell_type": "code",
   "execution_count": 38,
   "id": "d58496cb",
   "metadata": {},
   "outputs": [
    {
     "data": {
      "text/plain": [
       "4.494620834361061"
      ]
     },
     "execution_count": 38,
     "metadata": {},
     "output_type": "execute_result"
    }
   ],
   "source": [
    "prediction = algo.predict(1,7)\n",
    "prediction.est"
   ]
  },
  {
   "cell_type": "code",
   "execution_count": 43,
   "id": "70545607",
   "metadata": {},
   "outputs": [],
   "source": [
    "def collaborative_svd(user_id,destination_id):\n",
    "    prediction = algo.predict(user_id,destination_id)\n",
    "    return prediction.est"
   ]
  },
  {
   "cell_type": "code",
   "execution_count": 44,
   "id": "8568bf3a",
   "metadata": {},
   "outputs": [
    {
     "data": {
      "text/plain": [
       "4.494620834361061"
      ]
     },
     "execution_count": 44,
     "metadata": {},
     "output_type": "execute_result"
    }
   ],
   "source": [
    "collaborative_svd(1,7)"
   ]
  },
  {
   "cell_type": "markdown",
   "id": "62a98fce",
   "metadata": {},
   "source": [
    "### Content Based Filtering"
   ]
  },
  {
   "cell_type": "code",
   "execution_count": 59,
   "id": "11cde7d7",
   "metadata": {},
   "outputs": [],
   "source": [
    "from sklearn.feature_extraction.text import TfidfVectorizer\n",
    "import re"
   ]
  },
  {
   "cell_type": "code",
   "execution_count": 56,
   "id": "33d7b757",
   "metadata": {},
   "outputs": [
    {
     "name": "stdout",
     "output_type": "stream",
     "text": [
      "<class 'pandas.core.frame.DataFrame'>\n",
      "RangeIndex: 120 entries, 0 to 119\n",
      "Data columns (total 11 columns):\n",
      " #   Column            Non-Null Count  Dtype  \n",
      "---  ------            --------------  -----  \n",
      " 0   Destination_Id    120 non-null    int64  \n",
      " 1   Destination Name  120 non-null    object \n",
      " 2   Rating            120 non-null    int64  \n",
      " 3   Total Review      120 non-null    float64\n",
      " 4   Category          120 non-null    object \n",
      " 5   Location          120 non-null    object \n",
      " 6   Duration          120 non-null    object \n",
      " 7   Latitude          120 non-null    float64\n",
      " 8   Longitude         120 non-null    float64\n",
      " 9   Regency           120 non-null    object \n",
      " 10  Description       120 non-null    object \n",
      "dtypes: float64(3), int64(2), object(6)\n",
      "memory usage: 10.4+ KB\n"
     ]
    }
   ],
   "source": [
    "dt_destination.info()"
   ]
  },
  {
   "cell_type": "code",
   "execution_count": 104,
   "id": "2a7e8925",
   "metadata": {},
   "outputs": [],
   "source": [
    "dt_rating = dt_rating.sort_values(by='user_id')"
   ]
  },
  {
   "cell_type": "code",
   "execution_count": 105,
   "id": "c5079227",
   "metadata": {},
   "outputs": [
    {
     "name": "stdout",
     "output_type": "stream",
     "text": [
      "<class 'pandas.core.frame.DataFrame'>\n",
      "Int64Index: 16655 entries, 15738 to 9051\n",
      "Data columns (total 4 columns):\n",
      " #   Column          Non-Null Count  Dtype \n",
      "---  ------          --------------  ----- \n",
      " 0   Rating          16655 non-null  int64 \n",
      " 1   Review          16655 non-null  object\n",
      " 2   destination_id  16655 non-null  int64 \n",
      " 3   user_id         16655 non-null  int64 \n",
      "dtypes: int64(3), object(1)\n",
      "memory usage: 650.6+ KB\n"
     ]
    }
   ],
   "source": [
    "dt_rating.info()"
   ]
  },
  {
   "cell_type": "code",
   "execution_count": 106,
   "id": "9ee5ccbd",
   "metadata": {},
   "outputs": [],
   "source": [
    "dt_rating = dt_rating[['user_id','Review']]"
   ]
  },
  {
   "cell_type": "code",
   "execution_count": 107,
   "id": "918f6f82",
   "metadata": {},
   "outputs": [
    {
     "data": {
      "text/plain": [
       "user_id    0\n",
       "Review     0\n",
       "dtype: int64"
      ]
     },
     "execution_count": 107,
     "metadata": {},
     "output_type": "execute_result"
    }
   ],
   "source": [
    "dt_rating.isnull().sum()"
   ]
  },
  {
   "cell_type": "code",
   "execution_count": 108,
   "id": "f68c34ef",
   "metadata": {},
   "outputs": [],
   "source": [
    "dt_rating['Review'] = dt_rating.groupby(['user_id'])['Review'].transform(lambda x: ' '.join(x))"
   ]
  },
  {
   "cell_type": "code",
   "execution_count": 110,
   "id": "f710fe56",
   "metadata": {},
   "outputs": [
    {
     "data": {
      "text/html": [
       "<div>\n",
       "<style scoped>\n",
       "    .dataframe tbody tr th:only-of-type {\n",
       "        vertical-align: middle;\n",
       "    }\n",
       "\n",
       "    .dataframe tbody tr th {\n",
       "        vertical-align: top;\n",
       "    }\n",
       "\n",
       "    .dataframe thead th {\n",
       "        text-align: right;\n",
       "    }\n",
       "</style>\n",
       "<table border=\"1\" class=\"dataframe\">\n",
       "  <thead>\n",
       "    <tr style=\"text-align: right;\">\n",
       "      <th></th>\n",
       "      <th>user_id</th>\n",
       "      <th>Review</th>\n",
       "    </tr>\n",
       "  </thead>\n",
       "  <tbody>\n",
       "    <tr>\n",
       "      <th>15738</th>\n",
       "      <td>1</td>\n",
       "      <td>Pertama kali dive disini dan sungguh indah isi...</td>\n",
       "    </tr>\n",
       "    <tr>\n",
       "      <th>5615</th>\n",
       "      <td>1</td>\n",
       "      <td>Pertama kali dive disini dan sungguh indah isi...</td>\n",
       "    </tr>\n",
       "    <tr>\n",
       "      <th>5929</th>\n",
       "      <td>1</td>\n",
       "      <td>Pertama kali dive disini dan sungguh indah isi...</td>\n",
       "    </tr>\n",
       "    <tr>\n",
       "      <th>15289</th>\n",
       "      <td>2</td>\n",
       "      <td>Yang terbaik adalah untuk menyewa sepeda motor...</td>\n",
       "    </tr>\n",
       "    <tr>\n",
       "      <th>13787</th>\n",
       "      <td>3</td>\n",
       "      <td>Ibarat peribahasan ada udang di balik batu, ke...</td>\n",
       "    </tr>\n",
       "    <tr>\n",
       "      <th>...</th>\n",
       "      <td>...</td>\n",
       "      <td>...</td>\n",
       "    </tr>\n",
       "    <tr>\n",
       "      <th>2881</th>\n",
       "      <td>3499</td>\n",
       "      <td>Walau tidak dapat sunrise yang sempurna karena...</td>\n",
       "    </tr>\n",
       "    <tr>\n",
       "      <th>4364</th>\n",
       "      <td>3499</td>\n",
       "      <td>Walau tidak dapat sunrise yang sempurna karena...</td>\n",
       "    </tr>\n",
       "    <tr>\n",
       "      <th>7130</th>\n",
       "      <td>3499</td>\n",
       "      <td>Walau tidak dapat sunrise yang sempurna karena...</td>\n",
       "    </tr>\n",
       "    <tr>\n",
       "      <th>800</th>\n",
       "      <td>3499</td>\n",
       "      <td>Walau tidak dapat sunrise yang sempurna karena...</td>\n",
       "    </tr>\n",
       "    <tr>\n",
       "      <th>9051</th>\n",
       "      <td>3499</td>\n",
       "      <td>Walau tidak dapat sunrise yang sempurna karena...</td>\n",
       "    </tr>\n",
       "  </tbody>\n",
       "</table>\n",
       "<p>16655 rows × 2 columns</p>\n",
       "</div>"
      ],
      "text/plain": [
       "       user_id                                             Review\n",
       "15738        1  Pertama kali dive disini dan sungguh indah isi...\n",
       "5615         1  Pertama kali dive disini dan sungguh indah isi...\n",
       "5929         1  Pertama kali dive disini dan sungguh indah isi...\n",
       "15289        2  Yang terbaik adalah untuk menyewa sepeda motor...\n",
       "13787        3  Ibarat peribahasan ada udang di balik batu, ke...\n",
       "...        ...                                                ...\n",
       "2881      3499  Walau tidak dapat sunrise yang sempurna karena...\n",
       "4364      3499  Walau tidak dapat sunrise yang sempurna karena...\n",
       "7130      3499  Walau tidak dapat sunrise yang sempurna karena...\n",
       "800       3499  Walau tidak dapat sunrise yang sempurna karena...\n",
       "9051      3499  Walau tidak dapat sunrise yang sempurna karena...\n",
       "\n",
       "[16655 rows x 2 columns]"
      ]
     },
     "execution_count": 110,
     "metadata": {},
     "output_type": "execute_result"
    }
   ],
   "source": [
    "dt_rating = dt_rating.sort_values(by='user_id')\n",
    "dt_rating"
   ]
  },
  {
   "cell_type": "code",
   "execution_count": 111,
   "id": "bda4b767",
   "metadata": {},
   "outputs": [],
   "source": [
    "dt_rating = dt_rating.set_index('user_id')"
   ]
  },
  {
   "cell_type": "code",
   "execution_count": 112,
   "id": "30447cc6",
   "metadata": {},
   "outputs": [
    {
     "data": {
      "text/html": [
       "<div>\n",
       "<style scoped>\n",
       "    .dataframe tbody tr th:only-of-type {\n",
       "        vertical-align: middle;\n",
       "    }\n",
       "\n",
       "    .dataframe tbody tr th {\n",
       "        vertical-align: top;\n",
       "    }\n",
       "\n",
       "    .dataframe thead th {\n",
       "        text-align: right;\n",
       "    }\n",
       "</style>\n",
       "<table border=\"1\" class=\"dataframe\">\n",
       "  <thead>\n",
       "    <tr style=\"text-align: right;\">\n",
       "      <th></th>\n",
       "      <th>Review</th>\n",
       "    </tr>\n",
       "    <tr>\n",
       "      <th>user_id</th>\n",
       "      <th></th>\n",
       "    </tr>\n",
       "  </thead>\n",
       "  <tbody>\n",
       "    <tr>\n",
       "      <th>1</th>\n",
       "      <td>Pertama kali dive disini dan sungguh indah isi...</td>\n",
       "    </tr>\n",
       "    <tr>\n",
       "      <th>1</th>\n",
       "      <td>Pertama kali dive disini dan sungguh indah isi...</td>\n",
       "    </tr>\n",
       "    <tr>\n",
       "      <th>1</th>\n",
       "      <td>Pertama kali dive disini dan sungguh indah isi...</td>\n",
       "    </tr>\n",
       "    <tr>\n",
       "      <th>2</th>\n",
       "      <td>Yang terbaik adalah untuk menyewa sepeda motor...</td>\n",
       "    </tr>\n",
       "    <tr>\n",
       "      <th>3</th>\n",
       "      <td>Ibarat peribahasan ada udang di balik batu, ke...</td>\n",
       "    </tr>\n",
       "    <tr>\n",
       "      <th>...</th>\n",
       "      <td>...</td>\n",
       "    </tr>\n",
       "    <tr>\n",
       "      <th>3499</th>\n",
       "      <td>Walau tidak dapat sunrise yang sempurna karena...</td>\n",
       "    </tr>\n",
       "    <tr>\n",
       "      <th>3499</th>\n",
       "      <td>Walau tidak dapat sunrise yang sempurna karena...</td>\n",
       "    </tr>\n",
       "    <tr>\n",
       "      <th>3499</th>\n",
       "      <td>Walau tidak dapat sunrise yang sempurna karena...</td>\n",
       "    </tr>\n",
       "    <tr>\n",
       "      <th>3499</th>\n",
       "      <td>Walau tidak dapat sunrise yang sempurna karena...</td>\n",
       "    </tr>\n",
       "    <tr>\n",
       "      <th>3499</th>\n",
       "      <td>Walau tidak dapat sunrise yang sempurna karena...</td>\n",
       "    </tr>\n",
       "  </tbody>\n",
       "</table>\n",
       "<p>16655 rows × 1 columns</p>\n",
       "</div>"
      ],
      "text/plain": [
       "                                                    Review\n",
       "user_id                                                   \n",
       "1        Pertama kali dive disini dan sungguh indah isi...\n",
       "1        Pertama kali dive disini dan sungguh indah isi...\n",
       "1        Pertama kali dive disini dan sungguh indah isi...\n",
       "2        Yang terbaik adalah untuk menyewa sepeda motor...\n",
       "3        Ibarat peribahasan ada udang di balik batu, ke...\n",
       "...                                                    ...\n",
       "3499     Walau tidak dapat sunrise yang sempurna karena...\n",
       "3499     Walau tidak dapat sunrise yang sempurna karena...\n",
       "3499     Walau tidak dapat sunrise yang sempurna karena...\n",
       "3499     Walau tidak dapat sunrise yang sempurna karena...\n",
       "3499     Walau tidak dapat sunrise yang sempurna karena...\n",
       "\n",
       "[16655 rows x 1 columns]"
      ]
     },
     "execution_count": 112,
     "metadata": {},
     "output_type": "execute_result"
    }
   ],
   "source": [
    "dt_rating "
   ]
  },
  {
   "cell_type": "code",
   "execution_count": 113,
   "id": "c1f416cb",
   "metadata": {},
   "outputs": [],
   "source": [
    "dt_rating = dt_rating.drop_duplicates(subset=['Review'])"
   ]
  },
  {
   "cell_type": "code",
   "execution_count": 114,
   "id": "71786af7",
   "metadata": {},
   "outputs": [
    {
     "data": {
      "text/html": [
       "<div>\n",
       "<style scoped>\n",
       "    .dataframe tbody tr th:only-of-type {\n",
       "        vertical-align: middle;\n",
       "    }\n",
       "\n",
       "    .dataframe tbody tr th {\n",
       "        vertical-align: top;\n",
       "    }\n",
       "\n",
       "    .dataframe thead th {\n",
       "        text-align: right;\n",
       "    }\n",
       "</style>\n",
       "<table border=\"1\" class=\"dataframe\">\n",
       "  <thead>\n",
       "    <tr style=\"text-align: right;\">\n",
       "      <th></th>\n",
       "      <th>Review</th>\n",
       "    </tr>\n",
       "    <tr>\n",
       "      <th>user_id</th>\n",
       "      <th></th>\n",
       "    </tr>\n",
       "  </thead>\n",
       "  <tbody>\n",
       "    <tr>\n",
       "      <th>1</th>\n",
       "      <td>Pertama kali dive disini dan sungguh indah isi...</td>\n",
       "    </tr>\n",
       "    <tr>\n",
       "      <th>2</th>\n",
       "      <td>Yang terbaik adalah untuk menyewa sepeda motor...</td>\n",
       "    </tr>\n",
       "    <tr>\n",
       "      <th>3</th>\n",
       "      <td>Ibarat peribahasan ada udang di balik batu, ke...</td>\n",
       "    </tr>\n",
       "    <tr>\n",
       "      <th>4</th>\n",
       "      <td>Berada ditempat ini, membuat kita lupa akan ke...</td>\n",
       "    </tr>\n",
       "    <tr>\n",
       "      <th>5</th>\n",
       "      <td>Tempat ini selalu keprofesionalan mereka dan e...</td>\n",
       "    </tr>\n",
       "    <tr>\n",
       "      <th>...</th>\n",
       "      <td>...</td>\n",
       "    </tr>\n",
       "    <tr>\n",
       "      <th>3495</th>\n",
       "      <td>Pantai panjang dengan pasir halus. Sangat bagu...</td>\n",
       "    </tr>\n",
       "    <tr>\n",
       "      <th>3496</th>\n",
       "      <td>Tempat yang sangat sejuk dan Indah dan sangat ...</td>\n",
       "    </tr>\n",
       "    <tr>\n",
       "      <th>3497</th>\n",
       "      <td>Kami sangat senang menikmati suasana pantai ya...</td>\n",
       "    </tr>\n",
       "    <tr>\n",
       "      <th>3498</th>\n",
       "      <td>Biasanya kami melewati dengan Seminyak Square ...</td>\n",
       "    </tr>\n",
       "    <tr>\n",
       "      <th>3499</th>\n",
       "      <td>Walau tidak dapat sunrise yang sempurna karena...</td>\n",
       "    </tr>\n",
       "  </tbody>\n",
       "</table>\n",
       "<p>3461 rows × 1 columns</p>\n",
       "</div>"
      ],
      "text/plain": [
       "                                                    Review\n",
       "user_id                                                   \n",
       "1        Pertama kali dive disini dan sungguh indah isi...\n",
       "2        Yang terbaik adalah untuk menyewa sepeda motor...\n",
       "3        Ibarat peribahasan ada udang di balik batu, ke...\n",
       "4        Berada ditempat ini, membuat kita lupa akan ke...\n",
       "5        Tempat ini selalu keprofesionalan mereka dan e...\n",
       "...                                                    ...\n",
       "3495     Pantai panjang dengan pasir halus. Sangat bagu...\n",
       "3496     Tempat yang sangat sejuk dan Indah dan sangat ...\n",
       "3497     Kami sangat senang menikmati suasana pantai ya...\n",
       "3498     Biasanya kami melewati dengan Seminyak Square ...\n",
       "3499     Walau tidak dapat sunrise yang sempurna karena...\n",
       "\n",
       "[3461 rows x 1 columns]"
      ]
     },
     "execution_count": 114,
     "metadata": {},
     "output_type": "execute_result"
    }
   ],
   "source": [
    "dt_rating"
   ]
  },
  {
   "cell_type": "code",
   "execution_count": 72,
   "id": "5db03918",
   "metadata": {},
   "outputs": [],
   "source": [
    "tfidf = TfidfVectorizer(stop_words = 'english', ngram_range = (1,2), min_df = 5, max_df = 0.8, max_features = 5000)"
   ]
  },
  {
   "cell_type": "code",
   "execution_count": 62,
   "id": "78406296",
   "metadata": {},
   "outputs": [],
   "source": [
    "dt_features_extract = ['Destination Name','Category','Location','Duration ','Regency','Description']"
   ]
  },
  {
   "cell_type": "code",
   "execution_count": 63,
   "id": "ac1e506b",
   "metadata": {},
   "outputs": [],
   "source": [
    "for column in dt_features_extract:\n",
    "    dt_destination[column] = dt_destination[column].apply(lambda x: x.lower())\n",
    "    dt_destination[column] = dt_destination[column].apply(lambda x: re.sub('[^a-zA-Z 0-9]', ' ',x))"
   ]
  },
  {
   "cell_type": "code",
   "execution_count": 67,
   "id": "9a6012de",
   "metadata": {},
   "outputs": [],
   "source": [
    "dt_destination['combined_textftr'] = dt_destination['Destination Name'] + ' ' + dt_destination['Category'] + ' ' + dt_destination['Location'] + ' ' + dt_destination['Duration '] + ' ' + dt_destination['Regency'] + ' ' + dt_destination['Description'] "
   ]
  },
  {
   "cell_type": "code",
   "execution_count": 68,
   "id": "e9ace2cd",
   "metadata": {},
   "outputs": [
    {
     "data": {
      "text/html": [
       "<div>\n",
       "<style scoped>\n",
       "    .dataframe tbody tr th:only-of-type {\n",
       "        vertical-align: middle;\n",
       "    }\n",
       "\n",
       "    .dataframe tbody tr th {\n",
       "        vertical-align: top;\n",
       "    }\n",
       "\n",
       "    .dataframe thead th {\n",
       "        text-align: right;\n",
       "    }\n",
       "</style>\n",
       "<table border=\"1\" class=\"dataframe\">\n",
       "  <thead>\n",
       "    <tr style=\"text-align: right;\">\n",
       "      <th></th>\n",
       "      <th>Destination_Id</th>\n",
       "      <th>Destination Name</th>\n",
       "      <th>Rating</th>\n",
       "      <th>Total Review</th>\n",
       "      <th>Category</th>\n",
       "      <th>Location</th>\n",
       "      <th>Duration</th>\n",
       "      <th>Latitude</th>\n",
       "      <th>Longitude</th>\n",
       "      <th>Regency</th>\n",
       "      <th>Description</th>\n",
       "      <th>combined_textftr</th>\n",
       "    </tr>\n",
       "  </thead>\n",
       "  <tbody>\n",
       "    <tr>\n",
       "      <th>0</th>\n",
       "      <td>1</td>\n",
       "      <td>mandala suci wenara wana</td>\n",
       "      <td>4</td>\n",
       "      <td>34.872</td>\n",
       "      <td>area wisata alam  taman margasatwa</td>\n",
       "      <td>jl  monkey forest  ubud 80571 indonesia</td>\n",
       "      <td>1 2 jam</td>\n",
       "      <td>-8.512077</td>\n",
       "      <td>115.261053</td>\n",
       "      <td>gianyar</td>\n",
       "      <td>mandala suci wenara wana atau disebut juga mon...</td>\n",
       "      <td>mandala suci wenara wana area wisata alam  tam...</td>\n",
       "    </tr>\n",
       "    <tr>\n",
       "      <th>1</th>\n",
       "      <td>2</td>\n",
       "      <td>gunung agung</td>\n",
       "      <td>4</td>\n",
       "      <td>455.000</td>\n",
       "      <td>pegunungan</td>\n",
       "      <td>besakih  kecamatan karangasem  kabupaten karan...</td>\n",
       "      <td>lebih dari 3 jam</td>\n",
       "      <td>-8.338936</td>\n",
       "      <td>115.508228</td>\n",
       "      <td>karangasem</td>\n",
       "      <td>gunung agung adalah gunung tertinggi di pulau ...</td>\n",
       "      <td>gunung agung pegunungan besakih  kecamatan kar...</td>\n",
       "    </tr>\n",
       "    <tr>\n",
       "      <th>2</th>\n",
       "      <td>3</td>\n",
       "      <td>waterbom bali</td>\n",
       "      <td>4</td>\n",
       "      <td>15.502</td>\n",
       "      <td>taman air</td>\n",
       "      <td>jl  kartika plaza  kuta 80361 indonesia</td>\n",
       "      <td>lebih dari 3 jam</td>\n",
       "      <td>-8.730345</td>\n",
       "      <td>115.167818</td>\n",
       "      <td>badung</td>\n",
       "      <td>taman bermain air yang dilengkapi dengan wahan...</td>\n",
       "      <td>waterbom bali taman air jl  kartika plaza  kut...</td>\n",
       "    </tr>\n",
       "    <tr>\n",
       "      <th>3</th>\n",
       "      <td>4</td>\n",
       "      <td>pantai double six</td>\n",
       "      <td>4</td>\n",
       "      <td>2.031</td>\n",
       "      <td>pantai</td>\n",
       "      <td>legian  jl  double six  seminyak  kuta  kabupa...</td>\n",
       "      <td>2 3 jam</td>\n",
       "      <td>-8.696862</td>\n",
       "      <td>115.161924</td>\n",
       "      <td>badung</td>\n",
       "      <td>pantai di seminyak ini punya banyak daya pikat...</td>\n",
       "      <td>pantai double six pantai legian  jl  double si...</td>\n",
       "    </tr>\n",
       "    <tr>\n",
       "      <th>4</th>\n",
       "      <td>5</td>\n",
       "      <td>pantai seminyak</td>\n",
       "      <td>4</td>\n",
       "      <td>5.637</td>\n",
       "      <td>pantai</td>\n",
       "      <td>desa seminyak  kecamatan kuta  kabupaten badung</td>\n",
       "      <td>2 3 jam</td>\n",
       "      <td>-8.691655</td>\n",
       "      <td>115.157316</td>\n",
       "      <td>badung</td>\n",
       "      <td>pantai seminyak  beberapa orang menyebutnya pa...</td>\n",
       "      <td>pantai seminyak pantai desa seminyak  kecamata...</td>\n",
       "    </tr>\n",
       "    <tr>\n",
       "      <th>...</th>\n",
       "      <td>...</td>\n",
       "      <td>...</td>\n",
       "      <td>...</td>\n",
       "      <td>...</td>\n",
       "      <td>...</td>\n",
       "      <td>...</td>\n",
       "      <td>...</td>\n",
       "      <td>...</td>\n",
       "      <td>...</td>\n",
       "      <td>...</td>\n",
       "      <td>...</td>\n",
       "      <td>...</td>\n",
       "    </tr>\n",
       "    <tr>\n",
       "      <th>115</th>\n",
       "      <td>116</td>\n",
       "      <td>oasis yoga studio</td>\n",
       "      <td>5</td>\n",
       "      <td>2.000</td>\n",
       "      <td>sasana   arena latihan olahraga</td>\n",
       "      <td>jl  gang bima no 2  seminyak  bali blue karma ...</td>\n",
       "      <td>2 3 jam</td>\n",
       "      <td>-8.691593</td>\n",
       "      <td>115.167409</td>\n",
       "      <td>seminyak</td>\n",
       "      <td>kami memiliki lebih dari beberapa program di l...</td>\n",
       "      <td>oasis yoga studio sasana   arena latihan olahr...</td>\n",
       "    </tr>\n",
       "    <tr>\n",
       "      <th>116</th>\n",
       "      <td>117</td>\n",
       "      <td>peek a boo</td>\n",
       "      <td>4</td>\n",
       "      <td>166.000</td>\n",
       "      <td>taman bermain</td>\n",
       "      <td>jl  bypass ngurah rai no 17  sanur kaja  denpa...</td>\n",
       "      <td>1 2 jam</td>\n",
       "      <td>-8.677357</td>\n",
       "      <td>115.259035</td>\n",
       "      <td>denpasar</td>\n",
       "      <td>tempat yang sangat cocok untuk membawa anak be...</td>\n",
       "      <td>peek a boo taman bermain jl  bypass ngurah rai...</td>\n",
       "    </tr>\n",
       "    <tr>\n",
       "      <th>117</th>\n",
       "      <td>118</td>\n",
       "      <td>goa gajah</td>\n",
       "      <td>3</td>\n",
       "      <td>5.071</td>\n",
       "      <td>gua bawah tanah  gua</td>\n",
       "      <td>jl  raya goa gajah desa bedulu  ubud 80581 ind...</td>\n",
       "      <td>1 2 jam</td>\n",
       "      <td>-8.523169</td>\n",
       "      <td>115.287497</td>\n",
       "      <td>gianyar</td>\n",
       "      <td>gua gajah adalah gua buatan dari masa purbakal...</td>\n",
       "      <td>goa gajah gua bawah tanah  gua jl  raya goa ga...</td>\n",
       "    </tr>\n",
       "    <tr>\n",
       "      <th>118</th>\n",
       "      <td>119</td>\n",
       "      <td>pantai prancak</td>\n",
       "      <td>4</td>\n",
       "      <td>14.000</td>\n",
       "      <td>pantai</td>\n",
       "      <td>jl  pemelisan agung  tibubeneng  kec  kuta uta...</td>\n",
       "      <td>2 3 jam</td>\n",
       "      <td>-8.663502</td>\n",
       "      <td>115.136611</td>\n",
       "      <td>badung</td>\n",
       "      <td>pantai perancak di desa tibubeneng canggu  ber...</td>\n",
       "      <td>pantai prancak pantai jl  pemelisan agung  tib...</td>\n",
       "    </tr>\n",
       "    <tr>\n",
       "      <th>119</th>\n",
       "      <td>120</td>\n",
       "      <td>pantai nyang nyang</td>\n",
       "      <td>4</td>\n",
       "      <td>226.000</td>\n",
       "      <td>pantai</td>\n",
       "      <td>jl  raya uluwatu pecatu  pecatu  kec  kuta sel...</td>\n",
       "      <td>lebih dari 3 jam</td>\n",
       "      <td>-8.838570</td>\n",
       "      <td>115.091486</td>\n",
       "      <td>badung</td>\n",
       "      <td>pantai terpencil ini memiliki hamparan pasir y...</td>\n",
       "      <td>pantai nyang nyang pantai jl  raya uluwatu pec...</td>\n",
       "    </tr>\n",
       "  </tbody>\n",
       "</table>\n",
       "<p>120 rows × 12 columns</p>\n",
       "</div>"
      ],
      "text/plain": [
       "     Destination_Id          Destination Name  Rating  Total Review  \\\n",
       "0                 1  mandala suci wenara wana       4        34.872   \n",
       "1                 2              gunung agung       4       455.000   \n",
       "2                 3             waterbom bali       4        15.502   \n",
       "3                 4         pantai double six       4         2.031   \n",
       "4                 5           pantai seminyak       4         5.637   \n",
       "..              ...                       ...     ...           ...   \n",
       "115             116         oasis yoga studio       5         2.000   \n",
       "116             117                peek a boo       4       166.000   \n",
       "117             118                 goa gajah       3         5.071   \n",
       "118             119            pantai prancak       4        14.000   \n",
       "119             120        pantai nyang nyang       4       226.000   \n",
       "\n",
       "                               Category  \\\n",
       "0    area wisata alam  taman margasatwa   \n",
       "1                            pegunungan   \n",
       "2                             taman air   \n",
       "3                                pantai   \n",
       "4                                pantai   \n",
       "..                                  ...   \n",
       "115     sasana   arena latihan olahraga   \n",
       "116                       taman bermain   \n",
       "117                gua bawah tanah  gua   \n",
       "118                              pantai   \n",
       "119                              pantai   \n",
       "\n",
       "                                              Location         Duration   \\\n",
       "0              jl  monkey forest  ubud 80571 indonesia           1 2 jam   \n",
       "1    besakih  kecamatan karangasem  kabupaten karan...  lebih dari 3 jam   \n",
       "2              jl  kartika plaza  kuta 80361 indonesia  lebih dari 3 jam   \n",
       "3    legian  jl  double six  seminyak  kuta  kabupa...           2 3 jam   \n",
       "4      desa seminyak  kecamatan kuta  kabupaten badung           2 3 jam   \n",
       "..                                                 ...               ...   \n",
       "115  jl  gang bima no 2  seminyak  bali blue karma ...           2 3 jam   \n",
       "116  jl  bypass ngurah rai no 17  sanur kaja  denpa...           1 2 jam   \n",
       "117  jl  raya goa gajah desa bedulu  ubud 80581 ind...           1 2 jam   \n",
       "118  jl  pemelisan agung  tibubeneng  kec  kuta uta...           2 3 jam   \n",
       "119  jl  raya uluwatu pecatu  pecatu  kec  kuta sel...  lebih dari 3 jam   \n",
       "\n",
       "     Latitude   Longitude     Regency  \\\n",
       "0   -8.512077  115.261053     gianyar   \n",
       "1   -8.338936  115.508228  karangasem   \n",
       "2   -8.730345  115.167818      badung   \n",
       "3   -8.696862  115.161924      badung   \n",
       "4   -8.691655  115.157316      badung   \n",
       "..        ...         ...         ...   \n",
       "115 -8.691593  115.167409    seminyak   \n",
       "116 -8.677357  115.259035    denpasar   \n",
       "117 -8.523169  115.287497     gianyar   \n",
       "118 -8.663502  115.136611      badung   \n",
       "119 -8.838570  115.091486      badung   \n",
       "\n",
       "                                           Description  \\\n",
       "0    mandala suci wenara wana atau disebut juga mon...   \n",
       "1    gunung agung adalah gunung tertinggi di pulau ...   \n",
       "2    taman bermain air yang dilengkapi dengan wahan...   \n",
       "3    pantai di seminyak ini punya banyak daya pikat...   \n",
       "4    pantai seminyak  beberapa orang menyebutnya pa...   \n",
       "..                                                 ...   \n",
       "115  kami memiliki lebih dari beberapa program di l...   \n",
       "116  tempat yang sangat cocok untuk membawa anak be...   \n",
       "117  gua gajah adalah gua buatan dari masa purbakal...   \n",
       "118  pantai perancak di desa tibubeneng canggu  ber...   \n",
       "119  pantai terpencil ini memiliki hamparan pasir y...   \n",
       "\n",
       "                                      combined_textftr  \n",
       "0    mandala suci wenara wana area wisata alam  tam...  \n",
       "1    gunung agung pegunungan besakih  kecamatan kar...  \n",
       "2    waterbom bali taman air jl  kartika plaza  kut...  \n",
       "3    pantai double six pantai legian  jl  double si...  \n",
       "4    pantai seminyak pantai desa seminyak  kecamata...  \n",
       "..                                                 ...  \n",
       "115  oasis yoga studio sasana   arena latihan olahr...  \n",
       "116  peek a boo taman bermain jl  bypass ngurah rai...  \n",
       "117  goa gajah gua bawah tanah  gua jl  raya goa ga...  \n",
       "118  pantai prancak pantai jl  pemelisan agung  tib...  \n",
       "119  pantai nyang nyang pantai jl  raya uluwatu pec...  \n",
       "\n",
       "[120 rows x 12 columns]"
      ]
     },
     "execution_count": 68,
     "metadata": {},
     "output_type": "execute_result"
    }
   ],
   "source": [
    "dt_destination"
   ]
  },
  {
   "cell_type": "code",
   "execution_count": 73,
   "id": "c857ec60",
   "metadata": {},
   "outputs": [
    {
     "data": {
      "text/plain": [
       "<120x305 sparse matrix of type '<class 'numpy.float64'>'\n",
       "\twith 3854 stored elements in Compressed Sparse Row format>"
      ]
     },
     "execution_count": 73,
     "metadata": {},
     "output_type": "execute_result"
    }
   ],
   "source": [
    "tfidf_destination = tfidf.fit_transform((dt_destination['combined_textftr']))\n",
    "tfidf_destination"
   ]
  },
  {
   "cell_type": "code",
   "execution_count": 74,
   "id": "31d358bf",
   "metadata": {},
   "outputs": [],
   "source": [
    "user_tfidf = tfidf.transform(dt_destination['combined_textftr'])"
   ]
  },
  {
   "cell_type": "code",
   "execution_count": 75,
   "id": "69af91b5",
   "metadata": {},
   "outputs": [
    {
     "name": "stderr",
     "output_type": "stream",
     "text": [
      "D:\\Anaconda3\\lib\\site-packages\\sklearn\\utils\\validation.py:70: FutureWarning: Pass n_neighbors=11 as keyword args. From version 1.0 (renaming of 0.25) passing these as positional arguments will result in an error\n",
      "  warnings.warn(f\"Pass {args_msg} as keyword args. From version \"\n"
     ]
    }
   ],
   "source": [
    "from sklearn.neighbors import NearestNeighbors\n",
    "n_neighbors = 11\n",
    "KNN = NearestNeighbors(n_neighbors,p=2)\n",
    "KNN.fit(tfidf_destination)\n",
    "NNs = KNN.kneighbors(user_tfidf,return_distance=True)"
   ]
  },
  {
   "cell_type": "code",
   "execution_count": null,
   "id": "c2445862",
   "metadata": {},
   "outputs": [],
   "source": [
    "user = 21\n",
    "index = np.where(dt_destination)"
   ]
  }
 ],
 "metadata": {
  "kernelspec": {
   "display_name": "Python 3",
   "language": "python",
   "name": "python3"
  },
  "language_info": {
   "codemirror_mode": {
    "name": "ipython",
    "version": 3
   },
   "file_extension": ".py",
   "mimetype": "text/x-python",
   "name": "python",
   "nbconvert_exporter": "python",
   "pygments_lexer": "ipython3",
   "version": "3.8.8"
  }
 },
 "nbformat": 4,
 "nbformat_minor": 5
}
